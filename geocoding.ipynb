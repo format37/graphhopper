{
 "cells": [
  {
   "cell_type": "code",
   "execution_count": 1,
   "id": "8dc6db2e",
   "metadata": {},
   "outputs": [],
   "source": [
    "\"\"\"\n",
    "graphhopper\n",
    "geocoding example\n",
    "\"\"\"\n",
    "\n",
    "import requests\n",
    "import json"
   ]
  },
  {
   "cell_type": "code",
   "execution_count": 12,
   "id": "a28ebcc7",
   "metadata": {},
   "outputs": [],
   "source": [
    "def geocode(address, key):\n",
    "    \"\"\"\n",
    "    geocode\n",
    "    \"\"\"\n",
    "    url = 'https://graphhopper.com/api/1/geocode'\n",
    "    payload = {\n",
    "        'key': key,\n",
    "        'q': address,\n",
    "        'locale': 'en-US',\n",
    "        'limit': 1,\n",
    "        'debug': False,\n",
    "        #'point': True,\n",
    "        #'reverse': True,\n",
    "        #'country': 'USA'\n",
    "    }\n",
    "    r = requests.get(url, params=payload)\n",
    "    return r.json()"
   ]
  },
  {
   "cell_type": "code",
   "execution_count": null,
   "id": "c589ebaf",
   "metadata": {},
   "outputs": [],
   "source": [
    "# api key\n",
    "with open('key.txt','r') as f:\n",
    "    key = f.read().replace('\\n','')"
   ]
  },
  {
   "cell_type": "code",
   "execution_count": 13,
   "id": "83f34808",
   "metadata": {},
   "outputs": [
    {
     "name": "stdout",
     "output_type": "stream",
     "text": [
      "{\n",
      "    \"hits\": [\n",
      "        {\n",
      "            \"city\": \"Washington\",\n",
      "            \"country\": \"United States\",\n",
      "            \"countrycode\": \"US\",\n",
      "            \"extent\": [\n",
      "                -77.0378226,\n",
      "                38.8973242,\n",
      "                -77.0372952,\n",
      "                38.8976897\n",
      "            ],\n",
      "            \"house_number\": \"1600\",\n",
      "            \"housenumber\": \"1600\",\n",
      "            \"name\": \"The West Wing\",\n",
      "            \"osm_id\": 238241016,\n",
      "            \"osm_key\": \"building\",\n",
      "            \"osm_type\": \"W\",\n",
      "            \"osm_value\": \"yes\",\n",
      "            \"point\": {\n",
      "                \"lat\": 38.89751125,\n",
      "                \"lng\": -77.03755907267006\n",
      "            },\n",
      "            \"postcode\": \"20500\",\n",
      "            \"state\": \"District of Columbia\",\n",
      "            \"street\": \"Pennsylvania Avenue Northwest\"\n",
      "        }\n",
      "    ],\n",
      "    \"locale\": \"en\"\n",
      "}\n"
     ]
    }
   ],
   "source": [
    "address = '1600 Pennsylvania Ave NW, Washington, DC 20500'\n",
    "result = geocode(address, key)\n",
    "print(json.dumps(result, indent=4, sort_keys=True))"
   ]
  }
 ],
 "metadata": {
  "kernelspec": {
   "display_name": "Python (ml03)",
   "language": "python",
   "name": "myenv"
  },
  "language_info": {
   "codemirror_mode": {
    "name": "ipython",
    "version": 3
   },
   "file_extension": ".py",
   "mimetype": "text/x-python",
   "name": "python",
   "nbconvert_exporter": "python",
   "pygments_lexer": "ipython3",
   "version": "3.9.7"
  }
 },
 "nbformat": 4,
 "nbformat_minor": 5
}
